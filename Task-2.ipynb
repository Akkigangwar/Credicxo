{
 "cells": [
  {
   "cell_type": "code",
   "execution_count": 17,
   "id": "29792e73",
   "metadata": {},
   "outputs": [],
   "source": [
    "# There we call selenium file\n",
    "from selenium import webdriver\n",
    "import json"
   ]
  },
  {
   "cell_type": "code",
   "execution_count": 18,
   "id": "6a9c1575",
   "metadata": {},
   "outputs": [],
   "source": [
    "# There we call twocaptcha library\n",
    "from twocaptcha import TwoCaptcha"
   ]
  },
  {
   "cell_type": "code",
   "execution_count": 19,
   "id": "3863a023",
   "metadata": {},
   "outputs": [],
   "source": [
    "from selenium.webdriver.chrome.options import Options\n",
    "from selenium.webdriver.common.by import By\n",
    "from selenium.webdriver.common.keys import Keys\n",
    "from selenium.webdriver.support.ui import WebDriverWait\n",
    "from selenium.webdriver.support import expected_conditions as ec"
   ]
  },
  {
   "cell_type": "code",
   "execution_count": 20,
   "id": "68c6899a",
   "metadata": {},
   "outputs": [],
   "source": [
    "chromeOptions = Options()\n",
    "chromeOptions.add_argument(\"--start-maximized\")"
   ]
  },
  {
   "cell_type": "code",
   "execution_count": 24,
   "id": "718f8ad4",
   "metadata": {},
   "outputs": [
    {
     "name": "stderr",
     "output_type": "stream",
     "text": [
      "<ipython-input-24-bbfe3da6b0cb>:3: DeprecationWarning: executable_path has been deprecated, please pass in a Service object\n",
      "  driver = webdriver.Chrome(chrome_path)\n"
     ]
    },
    {
     "ename": "AttributeError",
     "evalue": "'str' object has no attribute 'key'",
     "output_type": "error",
     "traceback": [
      "\u001b[1;31m---------------------------------------------------------------------------\u001b[0m",
      "\u001b[1;31mAttributeError\u001b[0m                            Traceback (most recent call last)",
      "\u001b[1;32m<ipython-input-24-bbfe3da6b0cb>\u001b[0m in \u001b[0;36m<module>\u001b[1;34m\u001b[0m\n\u001b[0;32m      7\u001b[0m \u001b[0mwait\u001b[0m \u001b[1;33m=\u001b[0m \u001b[0mWebDriverWait\u001b[0m\u001b[1;33m(\u001b[0m\u001b[0mdriver\u001b[0m\u001b[1;33m,\u001b[0m\u001b[1;36m5\u001b[0m\u001b[1;33m)\u001b[0m\u001b[1;33m\u001b[0m\u001b[1;33m\u001b[0m\u001b[0m\n\u001b[0;32m      8\u001b[0m \u001b[0mimage_url\u001b[0m \u001b[1;33m=\u001b[0m \u001b[1;34m\"https://images-na.ssl-images-amazon.com/captcha/ahkfsmoa/Captcha_tdbtjttacn.jpg\"\u001b[0m\u001b[1;33m\u001b[0m\u001b[1;33m\u001b[0m\u001b[0m\n\u001b[1;32m----> 9\u001b[1;33m \u001b[0msolver\u001b[0m \u001b[1;33m=\u001b[0m \u001b[0mTwoCaptcha\u001b[0m\u001b[1;33m(\u001b[0m\u001b[0mamazon_url\u001b[0m\u001b[1;33m.\u001b[0m\u001b[0mkey\u001b[0m\u001b[1;33m)\u001b[0m\u001b[1;33m\u001b[0m\u001b[1;33m\u001b[0m\u001b[0m\n\u001b[0m\u001b[0;32m     10\u001b[0m \u001b[0mresult\u001b[0m \u001b[1;33m=\u001b[0m \u001b[0msolver\u001b[0m\u001b[1;33m.\u001b[0m\u001b[0mnormal\u001b[0m\u001b[1;33m(\u001b[0m\u001b[0mamazon_url\u001b[0m\u001b[1;33m)\u001b[0m\u001b[1;33m\u001b[0m\u001b[1;33m\u001b[0m\u001b[0m\n",
      "\u001b[1;31mAttributeError\u001b[0m: 'str' object has no attribute 'key'"
     ]
    }
   ],
   "source": [
    "# There we start \n",
    "chrome_path = r\"C:\\\\Users\\\\akkig\\\\.anaconda\\\\navigator\\\\driverChrome\\\\chromedriver.exe\"\n",
    "driver = webdriver.Chrome(chrome_path)\n",
    "driver.maximize_window()\n",
    "amazon_url = \"https://www.amazon.com/errors/validateCaptcha\"\n",
    "driver.get(amazon_url)\n",
    "wait = WebDriverWait(driver,5)\n",
    "image_url = \"https://images-na.ssl-images-amazon.com/captcha/ahkfsmoa/Captcha_tdbtjttacn.jpg\"\n",
    "solver = TwoCaptcha(amazon_url.key)\n",
    "result = solver.normal(amazon_url)"
   ]
  },
  {
   "cell_type": "code",
   "execution_count": null,
   "id": "598c5b22",
   "metadata": {},
   "outputs": [],
   "source": [
    "# There we start send key or click to button \n",
    "type_characters = wait.until(ec.visibility_of_element_located((By.XPATH, \"/html/body/div/div[1]/div[3]/div/div/form/div[1]/div/div/div[2]/input\")))\n",
    "type_characters.send_keys('Capture_Code')\n",
    "wait = WebDriverWait(driver,5)\n",
    "# Now we click on continue shopping button\n",
    "continue_shopping_button = wait.until(ec.visibility_of_element_located((By.XPATH, \"/html/body/div/div[1]/div[3]/div/div/form/div[2]/div/span/span/button\")))\n",
    "continue_shopping_button.click()"
   ]
  }
 ],
 "metadata": {
  "kernelspec": {
   "display_name": "Python 3",
   "language": "python",
   "name": "python3"
  },
  "language_info": {
   "codemirror_mode": {
    "name": "ipython",
    "version": 3
   },
   "file_extension": ".py",
   "mimetype": "text/x-python",
   "name": "python",
   "nbconvert_exporter": "python",
   "pygments_lexer": "ipython3",
   "version": "3.8.8"
  }
 },
 "nbformat": 4,
 "nbformat_minor": 5
}
