{
 "cells": [
  {
   "cell_type": "code",
   "execution_count": 6,
   "id": "6fdf5563",
   "metadata": {},
   "outputs": [],
   "source": [
    "# There we call selenium webdriver\n",
    "from selenium import webdriver\n",
    "from bs4 import BeautifulSoup as bs\n",
    "import sys"
   ]
  },
  {
   "cell_type": "code",
   "execution_count": 7,
   "id": "1a91b772",
   "metadata": {},
   "outputs": [],
   "source": [
    "from selenium.webdriver.chrome.options import Options\n",
    "from selenium.webdriver.common.by import By\n",
    "from selenium.webdriver.common.keys import Keys\n",
    "from selenium.webdriver.support.ui import WebDriverWait\n",
    "from selenium.webdriver.support import expected_conditions as ec\n",
    "import requests, json\n",
    "import re\n",
    "import csv\n",
    "import pandas as pd"
   ]
  },
  {
   "cell_type": "code",
   "execution_count": 8,
   "id": "f36fbda0",
   "metadata": {},
   "outputs": [
    {
     "name": "stdout",
     "output_type": "stream",
     "text": [
      "     Unnamed: 0       id        Asin country\n",
      "0             0        1        1015      de\n",
      "1             1  2424796        1015      fr\n",
      "2             2        2  000004458X      de\n",
      "3             3  2424797  000004458X      fr\n",
      "4             4        3     1002198      de\n",
      "..          ...      ...         ...     ...\n",
      "995         995  2425286     4484924      fr\n",
      "996         996      449     4485742      de\n",
      "997         997  2425287     4485742      fr\n",
      "998         998      450     4486072      de\n",
      "999         999  2425288     4486072      fr\n",
      "\n",
      "[1000 rows x 4 columns]\n"
     ]
    }
   ],
   "source": [
    "# Read there csv file \n",
    "data = pd.read_csv (r'C:\\\\Users\\\\akkig\\\\OneDrive\\\\Desktop\\\\AmazonSceaping.csv')\n",
    "print (data)"
   ]
  },
  {
   "cell_type": "code",
   "execution_count": 9,
   "id": "6dc5d047",
   "metadata": {},
   "outputs": [
    {
     "name": "stdout",
     "output_type": "stream",
     "text": [
      "           Asin\n",
      "0          1015\n",
      "1          1015\n",
      "2    000004458X\n",
      "3    000004458X\n",
      "4       1002198\n",
      "..          ...\n",
      "995     4484924\n",
      "996     4485742\n",
      "997     4485742\n",
      "998     4486072\n",
      "999     4486072\n",
      "\n",
      "[1000 rows x 1 columns]     country\n",
      "0        de\n",
      "1        fr\n",
      "2        de\n",
      "3        fr\n",
      "4        de\n",
      "..      ...\n",
      "995      fr\n",
      "996      de\n",
      "997      fr\n",
      "998      de\n",
      "999      fr\n",
      "\n",
      "[1000 rows x 1 columns]\n"
     ]
    }
   ],
   "source": [
    "# Create there two variable \n",
    "data_asin = pd.DataFrame(data, columns= ['Asin'])\n",
    "data_country = pd.DataFrame(data, columns= ['country'])\n",
    "print(data_asin,data_country)"
   ]
  },
  {
   "cell_type": "code",
   "execution_count": 11,
   "id": "845065df",
   "metadata": {},
   "outputs": [
    {
     "ename": "NameError",
     "evalue": "name 'driver' is not defined",
     "output_type": "error",
     "traceback": [
      "\u001b[1;31m---------------------------------------------------------------------------\u001b[0m",
      "\u001b[1;31mNameError\u001b[0m                                 Traceback (most recent call last)",
      "\u001b[1;32m<ipython-input-11-9104e564c26f>\u001b[0m in \u001b[0;36m<module>\u001b[1;34m\u001b[0m\n\u001b[0;32m      1\u001b[0m \u001b[0mInput_URL\u001b[0m \u001b[1;33m=\u001b[0m\u001b[1;33m[\u001b[0m\u001b[1;34m'https://www.amazon.{data_country}/dp/{data_asin}'\u001b[0m\u001b[1;33m]\u001b[0m\u001b[1;33m\u001b[0m\u001b[1;33m\u001b[0m\u001b[0m\n\u001b[0;32m      2\u001b[0m \u001b[0mgoogle_url\u001b[0m \u001b[1;33m=\u001b[0m \u001b[1;34m\"Input_URL\"\u001b[0m\u001b[1;33m\u001b[0m\u001b[1;33m\u001b[0m\u001b[0m\n\u001b[1;32m----> 3\u001b[1;33m \u001b[0mdriver\u001b[0m\u001b[1;33m.\u001b[0m\u001b[0mget\u001b[0m\u001b[1;33m(\u001b[0m\u001b[0mgoogle_url\u001b[0m\u001b[1;33m)\u001b[0m\u001b[1;33m\u001b[0m\u001b[1;33m\u001b[0m\u001b[0m\n\u001b[0m\u001b[0;32m      4\u001b[0m \u001b[0mprint\u001b[0m\u001b[1;33m(\u001b[0m\u001b[0mInput_URL\u001b[0m\u001b[1;33m)\u001b[0m\u001b[1;33m\u001b[0m\u001b[1;33m\u001b[0m\u001b[0m\n",
      "\u001b[1;31mNameError\u001b[0m: name 'driver' is not defined"
     ]
    }
   ],
   "source": [
    "Input_URL =['https://www.amazon.{data_country}/dp/{data_asin}']\n",
    "driver.get(Input_URL)"
   ]
  },
  {
   "cell_type": "code",
   "execution_count": 12,
   "id": "fbb0e011",
   "metadata": {},
   "outputs": [],
   "source": [
    "def return_json(data_asin):\n",
    "    Tags_Props = requests.get(data_asin)\n",
    "    json_obj = Tags_Props.json()\n",
    "    print(json_obj)\n",
    "    "
   ]
  }
 ],
 "metadata": {
  "kernelspec": {
   "display_name": "Python 3",
   "language": "python",
   "name": "python3"
  },
  "language_info": {
   "codemirror_mode": {
    "name": "ipython",
    "version": 3
   },
   "file_extension": ".py",
   "mimetype": "text/x-python",
   "name": "python",
   "nbconvert_exporter": "python",
   "pygments_lexer": "ipython3",
   "version": "3.8.8"
  }
 },
 "nbformat": 4,
 "nbformat_minor": 5
}
